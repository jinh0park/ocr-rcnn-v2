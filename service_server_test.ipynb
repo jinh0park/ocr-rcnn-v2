{
 "cells": [
  {
   "cell_type": "code",
   "execution_count": 23,
   "metadata": {},
   "outputs": [],
   "source": [
    "from flask import Flask,render_template, request, redirect\n",
    "from __future__ import print_function\n",
    "import os\n",
    "import cv2\n",
    "import imageio\n",
    "import PIL.Image\n",
    "import numpy as np\n",
    "import tensorflow as tf\n",
    "from button_detection import ButtonDetector\n",
    "from character_recognition import CharacterRecognizer"
   ]
  },
  {
   "cell_type": "code",
   "execution_count": 2,
   "metadata": {},
   "outputs": [],
   "source": [
    "def warm_up(detector, recognizer):\n",
    "    image = imageio.imread('./test_panels/1.jpg')\n",
    "    button = imageio.imread('./test_buttons/0_0.png')\n",
    "    detector.predict(image)\n",
    "    recognizer.predict(button)"
   ]
  },
  {
   "cell_type": "code",
   "execution_count": 3,
   "metadata": {},
   "outputs": [],
   "source": [
    "def predict(img_np, recognizer, detector):\n",
    "    boxes, scores, _ = detector.predict(img_np, True)\n",
    "    button_patches, button_positions, _ = button_candidates(boxes, scores, img_np)\n",
    "\n",
    "    for button_img, button_pos in zip(button_patches, button_positions):\n",
    "        button_text, button_score, button_draw =recognizer.predict(button_img, draw=True)\n",
    "        x_min, y_min, x_max, y_max = button_pos\n",
    "        button_rec = cv2.resize(button_draw, (x_max-x_min, y_max-y_min))\n",
    "        detector.image_show[y_min+6:y_max-6, x_min+6:x_max-6] = button_rec[6:-6, 6:-6]\n",
    "    return detector.image_show"
   ]
  },
  {
   "cell_type": "code",
   "execution_count": 4,
   "metadata": {},
   "outputs": [],
   "source": [
    "def button_candidates(boxes, scores, image):\n",
    "    img_height = image.shape[0]\n",
    "    img_width = image.shape[1]\n",
    "\n",
    "    button_scores = []\n",
    "    button_patches = []\n",
    "    button_positions = []\n",
    "\n",
    "    for box, score in zip(boxes, scores):\n",
    "        if score < 0.5: continue\n",
    "\n",
    "        y_min = int(box[0] * img_height)\n",
    "        x_min = int(box[1] * img_width)\n",
    "        y_max = int(box[2] * img_height)\n",
    "        x_max = int(box[3] * img_width)\n",
    "\n",
    "        button_patch = image[y_min: y_max, x_min: x_max]\n",
    "        button_patch = cv2.resize(button_patch, (180, 180))\n",
    "\n",
    "        button_scores.append(score)\n",
    "        button_patches.append(button_patch)\n",
    "        button_positions.append([x_min, y_min, x_max, y_max])\n",
    "    return button_patches, button_positions, button_scores"
   ]
  },
  {
   "cell_type": "code",
   "execution_count": 5,
   "metadata": {},
   "outputs": [
    {
     "name": "stdout",
     "output_type": "stream",
     "text": [
      "button detector initialized!\n",
      "character recognizer initialized!\n"
     ]
    }
   ],
   "source": [
    "detector = ButtonDetector()\n",
    "recognizer = CharacterRecognizer(verbose=False)\n",
    "warm_up(detector, recognizer)    "
   ]
  },
  {
   "cell_type": "code",
   "execution_count": 25,
   "metadata": {},
   "outputs": [],
   "source": [
    "app = Flask(__name__)  \n",
    "\n",
    "@app.route(\"/\")\n",
    "def index():\n",
    "    return render_template(\"./upload.html\")\n",
    "\n",
    "@app.route(\"/run\", methods=['GET', 'POST'])\n",
    "def run():\n",
    "    if request.method == 'POST':\n",
    "        f = request.files['file']\n",
    "        img = PIL.Image.open(f)\n",
    "        img_np = np.array(img)\n",
    "        if img_np.shape[-1] == 4:\n",
    "            img_np = img_np[:,:,:3]\n",
    "        tmp = predict(img_np, recognizer, detector)\n",
    "        print(type(tmp))\n",
    "        result_img = PIL.Image.fromarray(tmp)\n",
    "        result_img.save(\"static/temp/temp.png\")\n",
    "        return redirect(\"/run\")\n",
    "    return render_template('run.html', image_file=\"temp/temp.png\")\n",
    "\n",
    "@app.after_request\n",
    "def add_header(r):\n",
    "    \"\"\"\n",
    "    Add headers to both force latest IE rendering engine or Chrome Frame,\n",
    "    and also to cache the rendered page for 10 minutes.\n",
    "    \"\"\"\n",
    "    r.headers[\"Cache-Control\"] = \"no-cache, no-store, must-revalidate\"\n",
    "    r.headers[\"Pragma\"] = \"no-cache\"\n",
    "    r.headers[\"Expires\"] = \"0\"\n",
    "    r.headers['Cache-Control'] = 'public, max-age=0'\n",
    "    return r"
   ]
  },
  {
   "cell_type": "code",
   "execution_count": 18,
   "metadata": {},
   "outputs": [],
   "source": [
    "host_addr = \"127.0.0.1\"\n",
    "port_num = \"8080\""
   ]
  },
  {
   "cell_type": "code",
   "execution_count": 26,
   "metadata": {},
   "outputs": [
    {
     "name": "stdout",
     "output_type": "stream",
     "text": [
      " * Serving Flask app \"__main__\" (lazy loading)\n",
      " * Environment: production\n",
      "   WARNING: This is a development server. Do not use it in a production deployment.\n",
      "   Use a production WSGI server instead.\n",
      " * Debug mode: off\n"
     ]
    },
    {
     "name": "stderr",
     "output_type": "stream",
     "text": [
      " * Running on http://127.0.0.1:8080/ (Press CTRL+C to quit)\n",
      "127.0.0.1 - - [07/Aug/2019 17:36:53] \"\u001b[37mGET / HTTP/1.1\u001b[0m\" 200 -\n"
     ]
    },
    {
     "name": "stdout",
     "output_type": "stream",
     "text": [
      "<type 'numpy.ndarray'>\n"
     ]
    },
    {
     "name": "stderr",
     "output_type": "stream",
     "text": [
      "127.0.0.1 - - [07/Aug/2019 17:37:04] \"\u001b[32mPOST /run HTTP/1.1\u001b[0m\" 302 -\n",
      "127.0.0.1 - - [07/Aug/2019 17:37:04] \"\u001b[37mGET /run HTTP/1.1\u001b[0m\" 200 -\n",
      "127.0.0.1 - - [07/Aug/2019 17:37:04] \"\u001b[37mGET /static/temp/temp.png HTTP/1.1\u001b[0m\" 200 -\n"
     ]
    },
    {
     "name": "stdout",
     "output_type": "stream",
     "text": [
      "<type 'numpy.ndarray'>\n"
     ]
    },
    {
     "name": "stderr",
     "output_type": "stream",
     "text": [
      "127.0.0.1 - - [07/Aug/2019 17:47:03] \"\u001b[32mPOST /run HTTP/1.1\u001b[0m\" 302 -\n",
      "127.0.0.1 - - [07/Aug/2019 17:47:03] \"\u001b[37mGET /run HTTP/1.1\u001b[0m\" 200 -\n",
      "127.0.0.1 - - [07/Aug/2019 17:47:03] \"\u001b[37mGET /static/temp/temp.png HTTP/1.1\u001b[0m\" 200 -\n"
     ]
    },
    {
     "name": "stdout",
     "output_type": "stream",
     "text": [
      "<type 'numpy.ndarray'>\n"
     ]
    },
    {
     "name": "stderr",
     "output_type": "stream",
     "text": [
      "127.0.0.1 - - [07/Aug/2019 17:58:14] \"\u001b[32mPOST /run HTTP/1.1\u001b[0m\" 302 -\n",
      "127.0.0.1 - - [07/Aug/2019 17:58:14] \"\u001b[37mGET /run HTTP/1.1\u001b[0m\" 200 -\n",
      "127.0.0.1 - - [07/Aug/2019 17:58:14] \"\u001b[37mGET /static/temp/temp.png HTTP/1.1\u001b[0m\" 200 -\n",
      "127.0.0.1 - - [07/Aug/2019 17:58:21] \"\u001b[36mGET /static/temp/temp.png HTTP/1.1\u001b[0m\" 304 -\n",
      "127.0.0.1 - - [07/Aug/2019 19:04:00] \"\u001b[37mGET /static/temp/temp.png HTTP/1.1\u001b[0m\" 200 -\n"
     ]
    }
   ],
   "source": [
    "app.run(host=host_addr, port=port_num)"
   ]
  },
  {
   "cell_type": "code",
   "execution_count": null,
   "metadata": {},
   "outputs": [],
   "source": []
  },
  {
   "cell_type": "code",
   "execution_count": null,
   "metadata": {},
   "outputs": [],
   "source": []
  }
 ],
 "metadata": {
  "kernelspec": {
   "display_name": "Python 2",
   "language": "python",
   "name": "python2"
  },
  "language_info": {
   "codemirror_mode": {
    "name": "ipython",
    "version": 2
   },
   "file_extension": ".py",
   "mimetype": "text/x-python",
   "name": "python",
   "nbconvert_exporter": "python",
   "pygments_lexer": "ipython2",
   "version": "2.7.16"
  }
 },
 "nbformat": 4,
 "nbformat_minor": 2
}
